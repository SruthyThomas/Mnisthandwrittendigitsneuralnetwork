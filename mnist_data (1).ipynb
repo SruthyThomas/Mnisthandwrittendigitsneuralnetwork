{
  "nbformat": 4,
  "nbformat_minor": 0,
  "metadata": {
    "colab": {
      "provenance": []
    },
    "kernelspec": {
      "name": "python3",
      "display_name": "Python 3"
    },
    "language_info": {
      "name": "python"
    }
  },
  "cells": [
    {
      "cell_type": "markdown",
      "source": [
        "<h3 align=\"center\"><b> MNIST Digits classification using simple Neural\n",
        "Network</b></h3>\n"
      ],
      "metadata": {
        "id": "CpXNL55Dbi5T"
      }
    },
    {
      "cell_type": "code",
      "execution_count": null,
      "metadata": {
        "id": "VDwFDZDZsSs9"
      },
      "outputs": [],
      "source": [
        "#import necessary libraries\n",
        "import tensorflow as tf\n",
        "from tensorflow import keras\n",
        "import numpy as np\n",
        "from matplotlib import pyplot as plt\n",
        "%matplotlib inline\n",
        "from keras.optimizers import Adam\n",
        "from tensorflow.keras.utils import to_categorical\n",
        "from tensorflow.keras.models import Sequential\n",
        "from tensorflow.keras.layers import Dense,Flatten"
      ]
    },
    {
      "cell_type": "code",
      "source": [
        "(X_train,y_train),(X_test,y_test)=keras.datasets.mnist.load_data()"
      ],
      "metadata": {
        "colab": {
          "base_uri": "https://localhost:8080/"
        },
        "id": "oGd7z7loszU6",
        "outputId": "f81f53d8-32b6-4245-daa7-0b44fe5a30f5"
      },
      "execution_count": null,
      "outputs": [
        {
          "output_type": "stream",
          "name": "stdout",
          "text": [
            "Downloading data from https://storage.googleapis.com/tensorflow/tf-keras-datasets/mnist.npz\n",
            "11490434/11490434 [==============================] - 0s 0us/step\n"
          ]
        }
      ]
    },
    {
      "cell_type": "code",
      "source": [
        "len(X_train)"
      ],
      "metadata": {
        "colab": {
          "base_uri": "https://localhost:8080/"
        },
        "id": "nWwAljPbtJ-p",
        "outputId": "6faec75b-45d2-44a4-f8a5-efcc2a615781"
      },
      "execution_count": null,
      "outputs": [
        {
          "output_type": "execute_result",
          "data": {
            "text/plain": [
              "60000"
            ]
          },
          "metadata": {},
          "execution_count": 3
        }
      ]
    },
    {
      "cell_type": "code",
      "source": [
        "len(y_train)"
      ],
      "metadata": {
        "colab": {
          "base_uri": "https://localhost:8080/"
        },
        "id": "nEy4OXX8tN4q",
        "outputId": "fc46d41c-a1de-4993-bece-014bac237b71"
      },
      "execution_count": null,
      "outputs": [
        {
          "output_type": "execute_result",
          "data": {
            "text/plain": [
              "60000"
            ]
          },
          "metadata": {},
          "execution_count": 4
        }
      ]
    },
    {
      "cell_type": "code",
      "source": [
        "y_train[:5]"
      ],
      "metadata": {
        "colab": {
          "base_uri": "https://localhost:8080/"
        },
        "id": "H-aWfnFktSlJ",
        "outputId": "e5268bcc-861a-4fcf-ef3a-b90f922a143a"
      },
      "execution_count": null,
      "outputs": [
        {
          "output_type": "execute_result",
          "data": {
            "text/plain": [
              "array([5, 0, 4, 1, 9], dtype=uint8)"
            ]
          },
          "metadata": {},
          "execution_count": 5
        }
      ]
    },
    {
      "cell_type": "code",
      "source": [
        "X_train[0].shape"
      ],
      "metadata": {
        "colab": {
          "base_uri": "https://localhost:8080/"
        },
        "id": "_bUEtMr-tXxd",
        "outputId": "0d35bd8f-180d-4c0c-fe2f-f4cdec752146"
      },
      "execution_count": null,
      "outputs": [
        {
          "output_type": "execute_result",
          "data": {
            "text/plain": [
              "(28, 28)"
            ]
          },
          "metadata": {},
          "execution_count": 6
        }
      ]
    },
    {
      "cell_type": "code",
      "source": [
        "X_train[0]"
      ],
      "metadata": {
        "colab": {
          "base_uri": "https://localhost:8080/",
          "height": 1000
        },
        "id": "82hb1sJitatg",
        "outputId": "f38a4b0b-1271-487b-8a87-5e4dfac1fa3e"
      },
      "execution_count": null,
      "outputs": [
        {
          "output_type": "execute_result",
          "data": {
            "text/plain": [
              "array([[  0,   0,   0,   0,   0,   0,   0,   0,   0,   0,   0,   0,   0,\n",
              "          0,   0,   0,   0,   0,   0,   0,   0,   0,   0,   0,   0,   0,\n",
              "          0,   0],\n",
              "       [  0,   0,   0,   0,   0,   0,   0,   0,   0,   0,   0,   0,   0,\n",
              "          0,   0,   0,   0,   0,   0,   0,   0,   0,   0,   0,   0,   0,\n",
              "          0,   0],\n",
              "       [  0,   0,   0,   0,   0,   0,   0,   0,   0,   0,   0,   0,   0,\n",
              "          0,   0,   0,   0,   0,   0,   0,   0,   0,   0,   0,   0,   0,\n",
              "          0,   0],\n",
              "       [  0,   0,   0,   0,   0,   0,   0,   0,   0,   0,   0,   0,   0,\n",
              "          0,   0,   0,   0,   0,   0,   0,   0,   0,   0,   0,   0,   0,\n",
              "          0,   0],\n",
              "       [  0,   0,   0,   0,   0,   0,   0,   0,   0,   0,   0,   0,   0,\n",
              "          0,   0,   0,   0,   0,   0,   0,   0,   0,   0,   0,   0,   0,\n",
              "          0,   0],\n",
              "       [  0,   0,   0,   0,   0,   0,   0,   0,   0,   0,   0,   0,   3,\n",
              "         18,  18,  18, 126, 136, 175,  26, 166, 255, 247, 127,   0,   0,\n",
              "          0,   0],\n",
              "       [  0,   0,   0,   0,   0,   0,   0,   0,  30,  36,  94, 154, 170,\n",
              "        253, 253, 253, 253, 253, 225, 172, 253, 242, 195,  64,   0,   0,\n",
              "          0,   0],\n",
              "       [  0,   0,   0,   0,   0,   0,   0,  49, 238, 253, 253, 253, 253,\n",
              "        253, 253, 253, 253, 251,  93,  82,  82,  56,  39,   0,   0,   0,\n",
              "          0,   0],\n",
              "       [  0,   0,   0,   0,   0,   0,   0,  18, 219, 253, 253, 253, 253,\n",
              "        253, 198, 182, 247, 241,   0,   0,   0,   0,   0,   0,   0,   0,\n",
              "          0,   0],\n",
              "       [  0,   0,   0,   0,   0,   0,   0,   0,  80, 156, 107, 253, 253,\n",
              "        205,  11,   0,  43, 154,   0,   0,   0,   0,   0,   0,   0,   0,\n",
              "          0,   0],\n",
              "       [  0,   0,   0,   0,   0,   0,   0,   0,   0,  14,   1, 154, 253,\n",
              "         90,   0,   0,   0,   0,   0,   0,   0,   0,   0,   0,   0,   0,\n",
              "          0,   0],\n",
              "       [  0,   0,   0,   0,   0,   0,   0,   0,   0,   0,   0, 139, 253,\n",
              "        190,   2,   0,   0,   0,   0,   0,   0,   0,   0,   0,   0,   0,\n",
              "          0,   0],\n",
              "       [  0,   0,   0,   0,   0,   0,   0,   0,   0,   0,   0,  11, 190,\n",
              "        253,  70,   0,   0,   0,   0,   0,   0,   0,   0,   0,   0,   0,\n",
              "          0,   0],\n",
              "       [  0,   0,   0,   0,   0,   0,   0,   0,   0,   0,   0,   0,  35,\n",
              "        241, 225, 160, 108,   1,   0,   0,   0,   0,   0,   0,   0,   0,\n",
              "          0,   0],\n",
              "       [  0,   0,   0,   0,   0,   0,   0,   0,   0,   0,   0,   0,   0,\n",
              "         81, 240, 253, 253, 119,  25,   0,   0,   0,   0,   0,   0,   0,\n",
              "          0,   0],\n",
              "       [  0,   0,   0,   0,   0,   0,   0,   0,   0,   0,   0,   0,   0,\n",
              "          0,  45, 186, 253, 253, 150,  27,   0,   0,   0,   0,   0,   0,\n",
              "          0,   0],\n",
              "       [  0,   0,   0,   0,   0,   0,   0,   0,   0,   0,   0,   0,   0,\n",
              "          0,   0,  16,  93, 252, 253, 187,   0,   0,   0,   0,   0,   0,\n",
              "          0,   0],\n",
              "       [  0,   0,   0,   0,   0,   0,   0,   0,   0,   0,   0,   0,   0,\n",
              "          0,   0,   0,   0, 249, 253, 249,  64,   0,   0,   0,   0,   0,\n",
              "          0,   0],\n",
              "       [  0,   0,   0,   0,   0,   0,   0,   0,   0,   0,   0,   0,   0,\n",
              "          0,  46, 130, 183, 253, 253, 207,   2,   0,   0,   0,   0,   0,\n",
              "          0,   0],\n",
              "       [  0,   0,   0,   0,   0,   0,   0,   0,   0,   0,   0,   0,  39,\n",
              "        148, 229, 253, 253, 253, 250, 182,   0,   0,   0,   0,   0,   0,\n",
              "          0,   0],\n",
              "       [  0,   0,   0,   0,   0,   0,   0,   0,   0,   0,  24, 114, 221,\n",
              "        253, 253, 253, 253, 201,  78,   0,   0,   0,   0,   0,   0,   0,\n",
              "          0,   0],\n",
              "       [  0,   0,   0,   0,   0,   0,   0,   0,  23,  66, 213, 253, 253,\n",
              "        253, 253, 198,  81,   2,   0,   0,   0,   0,   0,   0,   0,   0,\n",
              "          0,   0],\n",
              "       [  0,   0,   0,   0,   0,   0,  18, 171, 219, 253, 253, 253, 253,\n",
              "        195,  80,   9,   0,   0,   0,   0,   0,   0,   0,   0,   0,   0,\n",
              "          0,   0],\n",
              "       [  0,   0,   0,   0,  55, 172, 226, 253, 253, 253, 253, 244, 133,\n",
              "         11,   0,   0,   0,   0,   0,   0,   0,   0,   0,   0,   0,   0,\n",
              "          0,   0],\n",
              "       [  0,   0,   0,   0, 136, 253, 253, 253, 212, 135, 132,  16,   0,\n",
              "          0,   0,   0,   0,   0,   0,   0,   0,   0,   0,   0,   0,   0,\n",
              "          0,   0],\n",
              "       [  0,   0,   0,   0,   0,   0,   0,   0,   0,   0,   0,   0,   0,\n",
              "          0,   0,   0,   0,   0,   0,   0,   0,   0,   0,   0,   0,   0,\n",
              "          0,   0],\n",
              "       [  0,   0,   0,   0,   0,   0,   0,   0,   0,   0,   0,   0,   0,\n",
              "          0,   0,   0,   0,   0,   0,   0,   0,   0,   0,   0,   0,   0,\n",
              "          0,   0],\n",
              "       [  0,   0,   0,   0,   0,   0,   0,   0,   0,   0,   0,   0,   0,\n",
              "          0,   0,   0,   0,   0,   0,   0,   0,   0,   0,   0,   0,   0,\n",
              "          0,   0]], dtype=uint8)"
            ],
            "text/html": [
              "<style>\n",
              "      .ndarray_repr .ndarray_raw_data {\n",
              "        display: none;\n",
              "      }\n",
              "      .ndarray_repr.show_array .ndarray_raw_data {\n",
              "        display: block;\n",
              "      }\n",
              "      .ndarray_repr.show_array .ndarray_image_preview {\n",
              "        display: none;\n",
              "      }\n",
              "      </style>\n",
              "      <div id=\"id-337e7e14-7ec3-4aff-b3f1-6805f964746e\" class=\"ndarray_repr\"><pre>ndarray (28, 28) <button style=\"padding: 0 2px;\">show data</button></pre><img src=\"data:image/png;base64,iVBORw0KGgoAAAANSUhEUgAAABwAAAAcCAAAAABXZoBIAAABAElEQVR4nGNgGMyAWUhIqK5jvdSy/9/rGRgYGFhgEnJsVjYCwQwMDAxPJgV+vniQgYGBgREqZ7iXH8r6l/SV4dn7m8gmCt3++/fv37/Htn3/iMW+gDnZf/+e5WbQnoXNNXyMs/5GoQoxwVmf/n9kSGFiwAW49/11wynJoPzx4YIcRlyygR/+/i2XxCWru+vv32nSuGQFYv/83Y3b4p9/fzpAmSyoMnohpiwM1w5h06Q+5enfv39/bcMiJVF09+/fv39P+mFKiTtd/fv3799jgZiBJLT69t+/f/8eDuDEkDJf8+jv379/v7Ryo4qzMDAwMAQGMjBc3/y35wM2V1IfAABFF16Aa0wAOwAAAABJRU5ErkJggg==\" class=\"ndarray_image_preview\" /><pre class=\"ndarray_raw_data\">array([[  0,   0,   0,   0,   0,   0,   0,   0,   0,   0,   0,   0,   0,\n",
              "          0,   0,   0,   0,   0,   0,   0,   0,   0,   0,   0,   0,   0,\n",
              "          0,   0],\n",
              "       [  0,   0,   0,   0,   0,   0,   0,   0,   0,   0,   0,   0,   0,\n",
              "          0,   0,   0,   0,   0,   0,   0,   0,   0,   0,   0,   0,   0,\n",
              "          0,   0],\n",
              "       [  0,   0,   0,   0,   0,   0,   0,   0,   0,   0,   0,   0,   0,\n",
              "          0,   0,   0,   0,   0,   0,   0,   0,   0,   0,   0,   0,   0,\n",
              "          0,   0],\n",
              "       [  0,   0,   0,   0,   0,   0,   0,   0,   0,   0,   0,   0,   0,\n",
              "          0,   0,   0,   0,   0,   0,   0,   0,   0,   0,   0,   0,   0,\n",
              "          0,   0],\n",
              "       [  0,   0,   0,   0,   0,   0,   0,   0,   0,   0,   0,   0,   0,\n",
              "          0,   0,   0,   0,   0,   0,   0,   0,   0,   0,   0,   0,   0,\n",
              "          0,   0],\n",
              "       [  0,   0,   0,   0,   0,   0,   0,   0,   0,   0,   0,   0,   3,\n",
              "         18,  18,  18, 126, 136, 175,  26, 166, 255, 247, 127,   0,   0,\n",
              "          0,   0],\n",
              "       [  0,   0,   0,   0,   0,   0,   0,   0,  30,  36,  94, 154, 170,\n",
              "        253, 253, 253, 253, 253, 225, 172, 253, 242, 195,  64,   0,   0,\n",
              "          0,   0],\n",
              "       [  0,   0,   0,   0,   0,   0,   0,  49, 238, 253, 253, 253, 253,\n",
              "        253, 253, 253, 253, 251,  93,  82,  82,  56,  39,   0,   0,   0,\n",
              "          0,   0],\n",
              "       [  0,   0,   0,   0,   0,   0,   0,  18, 219, 253, 253, 253, 253,\n",
              "        253, 198, 182, 247, 241,   0,   0,   0,   0,   0,   0,   0,   0,\n",
              "          0,   0],\n",
              "       [  0,   0,   0,   0,   0,   0,   0,   0,  80, 156, 107, 253, 253,\n",
              "        205,  11,   0,  43, 154,   0,   0,   0,   0,   0,   0,   0,   0,\n",
              "          0,   0],\n",
              "       [  0,   0,   0,   0,   0,   0,   0,   0,   0,  14,   1, 154, 253,\n",
              "         90,   0,   0,   0,   0,   0,   0,   0,   0,   0,   0,   0,   0,\n",
              "          0,   0],\n",
              "       [  0,   0,   0,   0,   0,   0,   0,   0,   0,   0,   0, 139, 253,\n",
              "        190,   2,   0,   0,   0,   0,   0,   0,   0,   0,   0,   0,   0,\n",
              "          0,   0],\n",
              "       [  0,   0,   0,   0,   0,   0,   0,   0,   0,   0,   0,  11, 190,\n",
              "        253,  70,   0,   0,   0,   0,   0,   0,   0,   0,   0,   0,   0,\n",
              "          0,   0],\n",
              "       [  0,   0,   0,   0,   0,   0,   0,   0,   0,   0,   0,   0,  35,\n",
              "        241, 225, 160, 108,   1,   0,   0,   0,   0,   0,   0,   0,   0,\n",
              "          0,   0],\n",
              "       [  0,   0,   0,   0,   0,   0,   0,   0,   0,   0,   0,   0,   0,\n",
              "         81, 240, 253, 253, 119,  25,   0,   0,   0,   0,   0,   0,   0,\n",
              "          0,   0],\n",
              "       [  0,   0,   0,   0,   0,   0,   0,   0,   0,   0,   0,   0,   0,\n",
              "          0,  45, 186, 253, 253, 150,  27,   0,   0,   0,   0,   0,   0,\n",
              "          0,   0],\n",
              "       [  0,   0,   0,   0,   0,   0,   0,   0,   0,   0,   0,   0,   0,\n",
              "          0,   0,  16,  93, 252, 253, 187,   0,   0,   0,   0,   0,   0,\n",
              "          0,   0],\n",
              "       [  0,   0,   0,   0,   0,   0,   0,   0,   0,   0,   0,   0,   0,\n",
              "          0,   0,   0,   0, 249, 253, 249,  64,   0,   0,   0,   0,   0,\n",
              "          0,   0],\n",
              "       [  0,   0,   0,   0,   0,   0,   0,   0,   0,   0,   0,   0,   0,\n",
              "          0,  46, 130, 183, 253, 253, 207,   2,   0,   0,   0,   0,   0,\n",
              "          0,   0],\n",
              "       [  0,   0,   0,   0,   0,   0,   0,   0,   0,   0,   0,   0,  39,\n",
              "        148, 229, 253, 253, 253, 250, 182,   0,   0,   0,   0,   0,   0,\n",
              "          0,   0],\n",
              "       [  0,   0,   0,   0,   0,   0,   0,   0,   0,   0,  24, 114, 221,\n",
              "        253, 253, 253, 253, 201,  78,   0,   0,   0,   0,   0,   0,   0,\n",
              "          0,   0],\n",
              "       [  0,   0,   0,   0,   0,   0,   0,   0,  23,  66, 213, 253, 253,\n",
              "        253, 253, 198,  81,   2,   0,   0,   0,   0,   0,   0,   0,   0,\n",
              "          0,   0],\n",
              "       [  0,   0,   0,   0,   0,   0,  18, 171, 219, 253, 253, 253, 253,\n",
              "        195,  80,   9,   0,   0,   0,   0,   0,   0,   0,   0,   0,   0,\n",
              "          0,   0],\n",
              "       [  0,   0,   0,   0,  55, 172, 226, 253, 253, 253, 253, 244, 133,\n",
              "         11,   0,   0,   0,   0,   0,   0,   0,   0,   0,   0,   0,   0,\n",
              "          0,   0],\n",
              "       [  0,   0,   0,   0, 136, 253, 253, 253, 212, 135, 132,  16,   0,\n",
              "          0,   0,   0,   0,   0,   0,   0,   0,   0,   0,   0,   0,   0,\n",
              "          0,   0],\n",
              "       [  0,   0,   0,   0,   0,   0,   0,   0,   0,   0,   0,   0,   0,\n",
              "          0,   0,   0,   0,   0,   0,   0,   0,   0,   0,   0,   0,   0,\n",
              "          0,   0],\n",
              "       [  0,   0,   0,   0,   0,   0,   0,   0,   0,   0,   0,   0,   0,\n",
              "          0,   0,   0,   0,   0,   0,   0,   0,   0,   0,   0,   0,   0,\n",
              "          0,   0],\n",
              "       [  0,   0,   0,   0,   0,   0,   0,   0,   0,   0,   0,   0,   0,\n",
              "          0,   0,   0,   0,   0,   0,   0,   0,   0,   0,   0,   0,   0,\n",
              "          0,   0]], dtype=uint8)</pre></div><script>\n",
              "      (() => {\n",
              "      const titles = ['show data', 'hide data'];\n",
              "      let index = 0\n",
              "      document.querySelector('#id-337e7e14-7ec3-4aff-b3f1-6805f964746e button').onclick = (e) => {\n",
              "        document.querySelector('#id-337e7e14-7ec3-4aff-b3f1-6805f964746e').classList.toggle('show_array');\n",
              "        index = (++index) % 2;\n",
              "        document.querySelector('#id-337e7e14-7ec3-4aff-b3f1-6805f964746e button').textContent = titles[index];\n",
              "        e.preventDefault();\n",
              "        e.stopPropagation();\n",
              "      }\n",
              "      })();\n",
              "    </script>"
            ]
          },
          "metadata": {},
          "execution_count": 7
        }
      ]
    },
    {
      "cell_type": "code",
      "source": [
        "plt.matshow(X_train[0])"
      ],
      "metadata": {
        "colab": {
          "base_uri": "https://localhost:8080/",
          "height": 454
        },
        "id": "9rzGp4rZti9-",
        "outputId": "59eac039-5c2e-46c8-f161-b6b2bc88b1fe"
      },
      "execution_count": null,
      "outputs": [
        {
          "output_type": "execute_result",
          "data": {
            "text/plain": [
              "<matplotlib.image.AxesImage at 0x7e36637b1fc0>"
            ]
          },
          "metadata": {},
          "execution_count": 8
        },
        {
          "output_type": "display_data",
          "data": {
            "text/plain": [
              "<Figure size 480x480 with 1 Axes>"
            ],
            "image/png": "[encoded data removed]"
          },
          "metadata": {}
        }
      ]
    },
    {
      "cell_type": "code",
      "source": [
        "y_train[0]"
      ],
      "metadata": {
        "colab": {
          "base_uri": "https://localhost:8080/"
        },
        "id": "unL2__wbtmPC",
        "outputId": "8ace4254-ec3e-41d4-fdd3-514a3552348d"
      },
      "execution_count": null,
      "outputs": [
        {
          "output_type": "execute_result",
          "data": {
            "text/plain": [
              "5"
            ]
          },
          "metadata": {},
          "execution_count": 9
        }
      ]
    },
    {
      "cell_type": "code",
      "source": [
        "## Normalize dataset\n",
        "X_train=X_train/255\n",
        "X_test=X_test/255"
      ],
      "metadata": {
        "id": "rnz1yX5ntzKJ"
      },
      "execution_count": null,
      "outputs": []
    },
    {
      "cell_type": "code",
      "source": [
        "X_train"
      ],
      "metadata": {
        "colab": {
          "base_uri": "https://localhost:8080/"
        },
        "id": "_6ilC1IPt_38",
        "outputId": "d939e907-9857-452c-fae3-4befb336649b"
      },
      "execution_count": null,
      "outputs": [
        {
          "output_type": "execute_result",
          "data": {
            "text/plain": [
              "array([[[0., 0., 0., ..., 0., 0., 0.],\n",
              "        [0., 0., 0., ..., 0., 0., 0.],\n",
              "        [0., 0., 0., ..., 0., 0., 0.],\n",
              "        ...,\n",
              "        [0., 0., 0., ..., 0., 0., 0.],\n",
              "        [0., 0., 0., ..., 0., 0., 0.],\n",
              "        [0., 0., 0., ..., 0., 0., 0.]],\n",
              "\n",
              "       [[0., 0., 0., ..., 0., 0., 0.],\n",
              "        [0., 0., 0., ..., 0., 0., 0.],\n",
              "        [0., 0., 0., ..., 0., 0., 0.],\n",
              "        ...,\n",
              "        [0., 0., 0., ..., 0., 0., 0.],\n",
              "        [0., 0., 0., ..., 0., 0., 0.],\n",
              "        [0., 0., 0., ..., 0., 0., 0.]],\n",
              "\n",
              "       [[0., 0., 0., ..., 0., 0., 0.],\n",
              "        [0., 0., 0., ..., 0., 0., 0.],\n",
              "        [0., 0., 0., ..., 0., 0., 0.],\n",
              "        ...,\n",
              "        [0., 0., 0., ..., 0., 0., 0.],\n",
              "        [0., 0., 0., ..., 0., 0., 0.],\n",
              "        [0., 0., 0., ..., 0., 0., 0.]],\n",
              "\n",
              "       ...,\n",
              "\n",
              "       [[0., 0., 0., ..., 0., 0., 0.],\n",
              "        [0., 0., 0., ..., 0., 0., 0.],\n",
              "        [0., 0., 0., ..., 0., 0., 0.],\n",
              "        ...,\n",
              "        [0., 0., 0., ..., 0., 0., 0.],\n",
              "        [0., 0., 0., ..., 0., 0., 0.],\n",
              "        [0., 0., 0., ..., 0., 0., 0.]],\n",
              "\n",
              "       [[0., 0., 0., ..., 0., 0., 0.],\n",
              "        [0., 0., 0., ..., 0., 0., 0.],\n",
              "        [0., 0., 0., ..., 0., 0., 0.],\n",
              "        ...,\n",
              "        [0., 0., 0., ..., 0., 0., 0.],\n",
              "        [0., 0., 0., ..., 0., 0., 0.],\n",
              "        [0., 0., 0., ..., 0., 0., 0.]],\n",
              "\n",
              "       [[0., 0., 0., ..., 0., 0., 0.],\n",
              "        [0., 0., 0., ..., 0., 0., 0.],\n",
              "        [0., 0., 0., ..., 0., 0., 0.],\n",
              "        ...,\n",
              "        [0., 0., 0., ..., 0., 0., 0.],\n",
              "        [0., 0., 0., ..., 0., 0., 0.],\n",
              "        [0., 0., 0., ..., 0., 0., 0.]]])"
            ]
          },
          "metadata": {},
          "execution_count": 11
        }
      ]
    },
    {
      "cell_type": "code",
      "source": [
        "## Convert  integer class labels to onehotencoded vectors\n",
        "y_train=to_categorical(y_train)\n",
        "y_test=to_categorical(y_test)"
      ],
      "metadata": {
        "id": "I-krX9L7uDx9"
      },
      "execution_count": null,
      "outputs": []
    },
    {
      "cell_type": "code",
      "source": [
        "##Create a Model\n",
        "model=Sequential()\n",
        "model.add(Flatten(input_shape=(28,28))),\n",
        "model.add(Dense(100,activation=\"relu\")),\n",
        "model.add(Dense(50,activation=\"relu\")),\n",
        "model.add(Dense(10,activation=\"softmax\"))\n"
      ],
      "metadata": {
        "id": "sdD161ruxL8T"
      },
      "execution_count": null,
      "outputs": []
    },
    {
      "cell_type": "code",
      "source": [
        "model.compile(optimizer=Adam(learning_rate=0.001),loss='categorical_crossentropy',metrics=['accuracy'])\n"
      ],
      "metadata": {
        "id": "kSPaLm7KyVXC"
      },
      "execution_count": null,
      "outputs": []
    },
    {
      "cell_type": "code",
      "source": [
        "model.fit(X_train,y_train,epochs=100)"
      ],
      "metadata": {
        "colab": {
          "base_uri": "https://localhost:8080/"
        },
        "id": "9DwS-bat3e8d",
        "outputId": "5effb28a-73b9-4f13-e6c2-7bf745c46bdf"
      },
      "execution_count": null,
      "outputs": [
        {
          "output_type": "stream",
          "name": "stdout",
          "text": [
            "Epoch 1/100\n",
            "1875/1875 [==============================] - 9s 4ms/step - loss: 0.2543 - accuracy: 0.9248\n",
            "Epoch 2/100\n",
            "1875/1875 [==============================] - 12s 7ms/step - loss: 0.1124 - accuracy: 0.9658\n",
            "Epoch 3/100\n",
            "1875/1875 [==============================] - 16s 8ms/step - loss: 0.0796 - accuracy: 0.9757\n",
            "Epoch 4/100\n",
            "1875/1875 [==============================] - 7s 4ms/step - loss: 0.0612 - accuracy: 0.9802\n",
            "Epoch 5/100\n",
            "1875/1875 [==============================] - 9s 5ms/step - loss: 0.0500 - accuracy: 0.9839\n",
            "Epoch 6/100\n",
            "1875/1875 [==============================] - 8s 4ms/step - loss: 0.0397 - accuracy: 0.9866\n",
            "Epoch 7/100\n",
            "1875/1875 [==============================] - 7s 4ms/step - loss: 0.0324 - accuracy: 0.9894\n",
            "Epoch 8/100\n",
            "1875/1875 [==============================] - 8s 4ms/step - loss: 0.0285 - accuracy: 0.9901\n",
            "Epoch 9/100\n",
            "1875/1875 [==============================] - 7s 4ms/step - loss: 0.0257 - accuracy: 0.9915\n",
            "Epoch 10/100\n",
            "1875/1875 [==============================] - 8s 4ms/step - loss: 0.0205 - accuracy: 0.9932\n",
            "Epoch 11/100\n",
            "1875/1875 [==============================] - 7s 4ms/step - loss: 0.0205 - accuracy: 0.9930\n",
            "Epoch 12/100\n",
            "1875/1875 [==============================] - 8s 4ms/step - loss: 0.0181 - accuracy: 0.9943\n",
            "Epoch 13/100\n",
            "1875/1875 [==============================] - 8s 4ms/step - loss: 0.0158 - accuracy: 0.9947\n",
            "Epoch 14/100\n",
            "1875/1875 [==============================] - 7s 4ms/step - loss: 0.0136 - accuracy: 0.9955\n",
            "Epoch 15/100\n",
            "1875/1875 [==============================] - 8s 4ms/step - loss: 0.0155 - accuracy: 0.9950\n",
            "Epoch 16/100\n",
            "1875/1875 [==============================] - 8s 4ms/step - loss: 0.0129 - accuracy: 0.9958\n",
            "Epoch 17/100\n",
            "1875/1875 [==============================] - 8s 4ms/step - loss: 0.0126 - accuracy: 0.9957\n",
            "Epoch 18/100\n",
            "1875/1875 [==============================] - 8s 4ms/step - loss: 0.0107 - accuracy: 0.9963\n",
            "Epoch 19/100\n",
            "1875/1875 [==============================] - 7s 4ms/step - loss: 0.0110 - accuracy: 0.9963\n",
            "Epoch 20/100\n",
            "1875/1875 [==============================] - 8s 4ms/step - loss: 0.0107 - accuracy: 0.9964\n",
            "Epoch 21/100\n",
            "1875/1875 [==============================] - 8s 4ms/step - loss: 0.0097 - accuracy: 0.9968\n",
            "Epoch 22/100\n",
            "1875/1875 [==============================] - 8s 4ms/step - loss: 0.0082 - accuracy: 0.9972\n",
            "Epoch 23/100\n",
            "1875/1875 [==============================] - 9s 5ms/step - loss: 0.0103 - accuracy: 0.9967\n",
            "Epoch 24/100\n",
            "1875/1875 [==============================] - 7s 4ms/step - loss: 0.0087 - accuracy: 0.9970\n",
            "Epoch 25/100\n",
            "1875/1875 [==============================] - 8s 4ms/step - loss: 0.0096 - accuracy: 0.9969\n",
            "Epoch 26/100\n",
            "1875/1875 [==============================] - 8s 4ms/step - loss: 0.0069 - accuracy: 0.9977\n",
            "Epoch 27/100\n",
            "1875/1875 [==============================] - 7s 4ms/step - loss: 0.0096 - accuracy: 0.9969\n",
            "Epoch 28/100\n",
            "1875/1875 [==============================] - 8s 4ms/step - loss: 0.0096 - accuracy: 0.9968\n",
            "Epoch 29/100\n",
            "1875/1875 [==============================] - 7s 4ms/step - loss: 0.0076 - accuracy: 0.9975\n",
            "Epoch 30/100\n",
            "1875/1875 [==============================] - 8s 4ms/step - loss: 0.0076 - accuracy: 0.9975\n",
            "Epoch 31/100\n",
            "1875/1875 [==============================] - 11s 6ms/step - loss: 0.0075 - accuracy: 0.9975\n",
            "Epoch 32/100\n",
            "1875/1875 [==============================] - 10s 5ms/step - loss: 0.0089 - accuracy: 0.9971\n",
            "Epoch 33/100\n",
            "1875/1875 [==============================] - 7s 4ms/step - loss: 0.0066 - accuracy: 0.9980\n",
            "Epoch 34/100\n",
            "1875/1875 [==============================] - 8s 4ms/step - loss: 0.0067 - accuracy: 0.9980\n",
            "Epoch 35/100\n",
            "1875/1875 [==============================] - 7s 4ms/step - loss: 0.0070 - accuracy: 0.9977\n",
            "Epoch 36/100\n",
            "1875/1875 [==============================] - 8s 4ms/step - loss: 0.0066 - accuracy: 0.9980\n",
            "Epoch 37/100\n",
            "1875/1875 [==============================] - 8s 4ms/step - loss: 0.0088 - accuracy: 0.9973\n",
            "Epoch 38/100\n",
            "1875/1875 [==============================] - 8s 4ms/step - loss: 0.0053 - accuracy: 0.9984\n",
            "Epoch 39/100\n",
            "1875/1875 [==============================] - 8s 4ms/step - loss: 0.0063 - accuracy: 0.9980\n",
            "Epoch 40/100\n",
            "1875/1875 [==============================] - 8s 4ms/step - loss: 0.0072 - accuracy: 0.9981\n",
            "Epoch 41/100\n",
            "1875/1875 [==============================] - 8s 4ms/step - loss: 0.0085 - accuracy: 0.9978\n",
            "Epoch 42/100\n",
            "1875/1875 [==============================] - 9s 5ms/step - loss: 0.0063 - accuracy: 0.9982\n",
            "Epoch 43/100\n",
            "1875/1875 [==============================] - 7s 4ms/step - loss: 0.0057 - accuracy: 0.9983\n",
            "Epoch 44/100\n",
            "1875/1875 [==============================] - 8s 4ms/step - loss: 0.0064 - accuracy: 0.9980\n",
            "Epoch 45/100\n",
            "1875/1875 [==============================] - 8s 4ms/step - loss: 0.0061 - accuracy: 0.9984\n",
            "Epoch 46/100\n",
            "1875/1875 [==============================] - 7s 4ms/step - loss: 0.0069 - accuracy: 0.9980\n",
            "Epoch 47/100\n",
            "1875/1875 [==============================] - 9s 5ms/step - loss: 0.0050 - accuracy: 0.9983\n",
            "Epoch 48/100\n",
            "1875/1875 [==============================] - 8s 4ms/step - loss: 0.0065 - accuracy: 0.9983\n",
            "Epoch 49/100\n",
            "1875/1875 [==============================] - 7s 4ms/step - loss: 0.0068 - accuracy: 0.9980\n",
            "Epoch 50/100\n",
            "1875/1875 [==============================] - 8s 4ms/step - loss: 0.0056 - accuracy: 0.9983\n",
            "Epoch 51/100\n",
            "1875/1875 [==============================] - 7s 4ms/step - loss: 0.0041 - accuracy: 0.9988\n",
            "Epoch 52/100\n",
            "1875/1875 [==============================] - 8s 4ms/step - loss: 0.0052 - accuracy: 0.9982\n",
            "Epoch 53/100\n",
            "1875/1875 [==============================] - 8s 4ms/step - loss: 0.0068 - accuracy: 0.9981\n",
            "Epoch 54/100\n",
            "1875/1875 [==============================] - 7s 4ms/step - loss: 0.0064 - accuracy: 0.9983\n",
            "Epoch 55/100\n",
            "1875/1875 [==============================] - 8s 4ms/step - loss: 0.0025 - accuracy: 0.9992\n",
            "Epoch 56/100\n",
            "1875/1875 [==============================] - 7s 4ms/step - loss: 0.0064 - accuracy: 0.9982\n",
            "Epoch 57/100\n",
            "1875/1875 [==============================] - 9s 5ms/step - loss: 0.0067 - accuracy: 0.9982\n",
            "Epoch 58/100\n",
            "1875/1875 [==============================] - 8s 4ms/step - loss: 0.0048 - accuracy: 0.9987\n",
            "Epoch 59/100\n",
            "1875/1875 [==============================] - 7s 4ms/step - loss: 0.0049 - accuracy: 0.9986\n",
            "Epoch 60/100\n",
            "1875/1875 [==============================] - 8s 4ms/step - loss: 0.0075 - accuracy: 0.9982\n",
            "Epoch 61/100\n",
            "1875/1875 [==============================] - 7s 4ms/step - loss: 0.0056 - accuracy: 0.9985\n",
            "Epoch 62/100\n",
            "1875/1875 [==============================] - 8s 4ms/step - loss: 0.0041 - accuracy: 0.9987\n",
            "Epoch 63/100\n",
            "1875/1875 [==============================] - 8s 4ms/step - loss: 0.0051 - accuracy: 0.9985\n",
            "Epoch 64/100\n",
            "1875/1875 [==============================] - 7s 4ms/step - loss: 0.0073 - accuracy: 0.9981\n",
            "Epoch 65/100\n",
            "1875/1875 [==============================] - 8s 4ms/step - loss: 0.0045 - accuracy: 0.9987\n",
            "Epoch 66/100\n",
            "1875/1875 [==============================] - 6s 3ms/step - loss: 0.0048 - accuracy: 0.9986\n",
            "Epoch 67/100\n",
            "1875/1875 [==============================] - 7s 4ms/step - loss: 0.0051 - accuracy: 0.9985\n",
            "Epoch 68/100\n",
            "1875/1875 [==============================] - 7s 4ms/step - loss: 0.0044 - accuracy: 0.9987\n",
            "Epoch 69/100\n",
            "1875/1875 [==============================] - 7s 4ms/step - loss: 0.0056 - accuracy: 0.9986\n",
            "Epoch 70/100\n",
            "1875/1875 [==============================] - 7s 4ms/step - loss: 0.0037 - accuracy: 0.9990\n",
            "Epoch 71/100\n",
            "1875/1875 [==============================] - 7s 4ms/step - loss: 0.0049 - accuracy: 0.9988\n",
            "Epoch 72/100\n",
            "1875/1875 [==============================] - 8s 4ms/step - loss: 0.0057 - accuracy: 0.9984\n",
            "Epoch 73/100\n",
            "1875/1875 [==============================] - 7s 4ms/step - loss: 0.0046 - accuracy: 0.9990\n",
            "Epoch 74/100\n",
            "1875/1875 [==============================] - 8s 4ms/step - loss: 0.0049 - accuracy: 0.9987\n",
            "Epoch 75/100\n",
            "1875/1875 [==============================] - 8s 4ms/step - loss: 0.0038 - accuracy: 0.9990\n",
            "Epoch 76/100\n",
            "1875/1875 [==============================] - 6s 3ms/step - loss: 0.0065 - accuracy: 0.9987\n",
            "Epoch 77/100\n",
            "1875/1875 [==============================] - 7s 4ms/step - loss: 0.0051 - accuracy: 0.9986\n",
            "Epoch 78/100\n",
            "1875/1875 [==============================] - 6s 3ms/step - loss: 0.0047 - accuracy: 0.9987\n",
            "Epoch 79/100\n",
            "1875/1875 [==============================] - 8s 4ms/step - loss: 0.0051 - accuracy: 0.9987\n",
            "Epoch 80/100\n",
            "1875/1875 [==============================] - 7s 4ms/step - loss: 0.0034 - accuracy: 0.9991\n",
            "Epoch 81/100\n",
            "1875/1875 [==============================] - 8s 4ms/step - loss: 0.0061 - accuracy: 0.9985\n",
            "Epoch 82/100\n",
            "1875/1875 [==============================] - 8s 4ms/step - loss: 0.0056 - accuracy: 0.9986\n",
            "Epoch 83/100\n",
            "1875/1875 [==============================] - 7s 4ms/step - loss: 0.0053 - accuracy: 0.9986\n",
            "Epoch 84/100\n",
            "1875/1875 [==============================] - 8s 4ms/step - loss: 0.0053 - accuracy: 0.9987\n",
            "Epoch 85/100\n",
            "1875/1875 [==============================] - 8s 4ms/step - loss: 0.0044 - accuracy: 0.9990\n",
            "Epoch 86/100\n",
            "1875/1875 [==============================] - 7s 4ms/step - loss: 0.0047 - accuracy: 0.9988\n",
            "Epoch 87/100\n",
            "1875/1875 [==============================] - 8s 4ms/step - loss: 0.0053 - accuracy: 0.9988\n",
            "Epoch 88/100\n",
            "1875/1875 [==============================] - 7s 4ms/step - loss: 0.0028 - accuracy: 0.9993\n",
            "Epoch 89/100\n",
            "1875/1875 [==============================] - 8s 4ms/step - loss: 0.0046 - accuracy: 0.9989\n",
            "Epoch 90/100\n",
            "1875/1875 [==============================] - 8s 4ms/step - loss: 0.0044 - accuracy: 0.9990\n",
            "Epoch 91/100\n",
            "1875/1875 [==============================] - 7s 4ms/step - loss: 0.0055 - accuracy: 0.9989\n",
            "Epoch 92/100\n",
            "1875/1875 [==============================] - 8s 4ms/step - loss: 0.0052 - accuracy: 0.9988\n",
            "Epoch 93/100\n",
            "1875/1875 [==============================] - 7s 4ms/step - loss: 0.0043 - accuracy: 0.9989\n",
            "Epoch 94/100\n",
            "1875/1875 [==============================] - 8s 4ms/step - loss: 0.0052 - accuracy: 0.9989\n",
            "Epoch 95/100\n",
            "1875/1875 [==============================] - 8s 4ms/step - loss: 0.0056 - accuracy: 0.9988\n",
            "Epoch 96/100\n",
            "1875/1875 [==============================] - 7s 4ms/step - loss: 0.0045 - accuracy: 0.9990\n",
            "Epoch 97/100\n",
            "1875/1875 [==============================] - 9s 5ms/step - loss: 0.0035 - accuracy: 0.9989\n",
            "Epoch 98/100\n",
            "1875/1875 [==============================] - 8s 4ms/step - loss: 0.0036 - accuracy: 0.9991\n",
            "Epoch 99/100\n",
            "1875/1875 [==============================] - 8s 4ms/step - loss: 0.0042 - accuracy: 0.9991\n",
            "Epoch 100/100\n",
            "1875/1875 [==============================] - 8s 4ms/step - loss: 0.0033 - accuracy: 0.9992\n"
          ]
        },
        {
          "output_type": "execute_result",
          "data": {
            "text/plain": [
              "<keras.src.callbacks.History at 0x7e3665dcce50>"
            ]
          },
          "metadata": {},
          "execution_count": 19
        }
      ]
    },
    {
      "cell_type": "code",
      "source": [
        "X_train.shape"
      ],
      "metadata": {
        "colab": {
          "base_uri": "https://localhost:8080/"
        },
        "id": "UY7FEPd38Gaa",
        "outputId": "d3063ec3-05ca-4aa8-b625-efabd0822b12"
      },
      "execution_count": null,
      "outputs": [
        {
          "output_type": "execute_result",
          "data": {
            "text/plain": [
              "(60000, 28, 28)"
            ]
          },
          "metadata": {},
          "execution_count": 21
        }
      ]
    },
    {
      "cell_type": "code",
      "source": [
        "##Evaluate the model on the test dataset\n",
        "loss,accuracy=model.evaluate(X_test,y_test)\n",
        "print(\"Test data loss:\",loss)\n",
        "print(\"Test data accuracy:\",accuracy)"
      ],
      "metadata": {
        "colab": {
          "base_uri": "https://localhost:8080/"
        },
        "id": "2FLkHdEO8UMz",
        "outputId": "a0035c80-27eb-4f47-d543-60f61d302447"
      },
      "execution_count": null,
      "outputs": [
        {
          "output_type": "stream",
          "name": "stdout",
          "text": [
            "313/313 [==============================] - 1s 2ms/step - loss: 0.2672 - accuracy: 0.9803\n",
            "Test data loss: 0.2672010660171509\n",
            "Test data accuracy: 0.9803000092506409\n"
          ]
        }
      ]
    }
  ]
}